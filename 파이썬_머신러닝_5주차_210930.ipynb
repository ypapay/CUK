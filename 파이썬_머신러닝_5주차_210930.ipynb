{
  "nbformat": 4,
  "nbformat_minor": 0,
  "metadata": {
    "colab": {
      "name": "파이썬 머신러닝 5주차_210930.ipynb",
      "provenance": [],
      "authorship_tag": "ABX9TyOPdhiSe00j+ciBTf1q4Wng",
      "include_colab_link": true
    },
    "kernelspec": {
      "name": "python3",
      "display_name": "Python 3"
    },
    "language_info": {
      "name": "python"
    }
  },
  "cells": [
    {
      "cell_type": "markdown",
      "metadata": {
        "id": "view-in-github",
        "colab_type": "text"
      },
      "source": [
        "<a href=\"https://colab.research.google.com/github/ypapay/CUK/blob/main/%ED%8C%8C%EC%9D%B4%EC%8D%AC_%EB%A8%B8%EC%8B%A0%EB%9F%AC%EB%8B%9D_5%EC%A3%BC%EC%B0%A8_210930.ipynb\" target=\"_parent\"><img src=\"https://colab.research.google.com/assets/colab-badge.svg\" alt=\"Open In Colab\"/></a>"
      ]
    },
    {
      "cell_type": "markdown",
      "metadata": {
        "id": "Jygj6izDuMwU"
      },
      "source": [
        "## 파이썬 머신러닝 5주차\n",
        "### 머신러닝 맛보기"
      ]
    },
    {
      "cell_type": "markdown",
      "metadata": {
        "id": "pYkvn5cYuZTJ"
      },
      "source": [
        "### 2.4 Numpy 활용하기"
      ]
    },
    {
      "cell_type": "code",
      "metadata": {
        "colab": {
          "base_uri": "https://localhost:8080/"
        },
        "id": "RrPdsGYjuDDG",
        "outputId": "3c2ff3a2-05a1-4c5c-e809-bc03ba908668"
      },
      "source": [
        "#2.4.1 배열 만들기 및 초기화\n",
        "import numpy as np\n",
        "data = np.array([1, 2, 3, 4, 5, 6])\n",
        "data_2d = np.array([[1,2,3], [4, 5, 6]])\n",
        "data_random = np.random.randn(2, 3)\n",
        "data_zeros = np.zeros(5)\n",
        "data_ones = np.ones((2,3))\n",
        "print(data)\n",
        "print(data_2d)\n",
        "print(data_2d.shape)\n",
        "print(data_random)\n",
        "print(data_zeros)\n",
        "print(data_ones)"
      ],
      "execution_count": 1,
      "outputs": [
        {
          "output_type": "stream",
          "name": "stdout",
          "text": [
            "[1 2 3 4 5 6]\n",
            "[[1 2 3]\n",
            " [4 5 6]]\n",
            "(2, 3)\n",
            "[[-0.04667963  0.42570666 -1.02452775]\n",
            " [-0.72874915  0.54011213  2.87086587]]\n",
            "[0. 0. 0. 0. 0.]\n",
            "[[1. 1. 1.]\n",
            " [1. 1. 1.]]\n"
          ]
        }
      ]
    },
    {
      "cell_type": "code",
      "metadata": {
        "colab": {
          "base_uri": "https://localhost:8080/"
        },
        "id": "kabc9arY8221",
        "outputId": "01527ac2-3eec-4312-bf97-609b963b7902"
      },
      "source": [
        "#2.4.2 배열 만들기(arrange 활용)\n",
        "data_arange = np.arange(10, 121, 10)\n",
        "data_reshape = data_arange.reshape((2, 6))\n",
        "print(data_arange)\n",
        "print(data_reshape)"
      ],
      "execution_count": 2,
      "outputs": [
        {
          "output_type": "stream",
          "name": "stdout",
          "text": [
            "[ 10  20  30  40  50  60  70  80  90 100 110 120]\n",
            "[[ 10  20  30  40  50  60]\n",
            " [ 70  80  90 100 110 120]]\n"
          ]
        }
      ]
    },
    {
      "cell_type": "code",
      "metadata": {
        "colab": {
          "base_uri": "https://localhost:8080/"
        },
        "id": "ZVnezFKg9eK8",
        "outputId": "195fe0f6-5956-4851-87dc-9d4066eaae70"
      },
      "source": [
        "#2.4.3 배열의 요소 추출\n",
        "data = np.array([[1, 2, 3], [4, 5, 6], [7, 8, 9]])\n",
        "print(data)\n",
        "print(data[0][1])\n",
        "print(data[0][1:])\n",
        "data[0] = 100\n",
        "print(data)\n",
        "data[:] = 300\n",
        "print(data)\n"
      ],
      "execution_count": 3,
      "outputs": [
        {
          "output_type": "stream",
          "name": "stdout",
          "text": [
            "[[1 2 3]\n",
            " [4 5 6]\n",
            " [7 8 9]]\n",
            "2\n",
            "[2 3]\n",
            "[[100 100 100]\n",
            " [  4   5   6]\n",
            " [  7   8   9]]\n",
            "[[300 300 300]\n",
            " [300 300 300]\n",
            " [300 300 300]]\n"
          ]
        }
      ]
    },
    {
      "cell_type": "code",
      "metadata": {
        "colab": {
          "base_uri": "https://localhost:8080/"
        },
        "id": "hXkKdtxD-S0s",
        "outputId": "9611164d-7cc5-41a5-e99a-09bf42846307"
      },
      "source": [
        "#2.4.4 배열의 산술 연산\n",
        "data = np.array([[5, 7, 9], [-7, -6, 19], [6, 8.9, 11]])\n",
        "data_2 = data * 2\n",
        "data_3 = data + 3\n",
        "print(data)\n",
        "print(data_2)\n",
        "print(data_3)\n",
        "print(data > data_2)\n"
      ],
      "execution_count": 4,
      "outputs": [
        {
          "output_type": "stream",
          "name": "stdout",
          "text": [
            "[[ 5.   7.   9. ]\n",
            " [-7.  -6.  19. ]\n",
            " [ 6.   8.9 11. ]]\n",
            "[[ 10.   14.   18. ]\n",
            " [-14.  -12.   38. ]\n",
            " [ 12.   17.8  22. ]]\n",
            "[[ 8.  10.  12. ]\n",
            " [-4.  -3.  22. ]\n",
            " [ 9.  11.9 14. ]]\n",
            "[[False False False]\n",
            " [ True  True False]\n",
            " [False False False]]\n"
          ]
        }
      ]
    },
    {
      "cell_type": "code",
      "metadata": {
        "colab": {
          "base_uri": "https://localhost:8080/"
        },
        "id": "FoV5t5uKBPfz",
        "outputId": "f883e6b4-1a1c-4896-f351-7cb29c4b51e5"
      },
      "source": [
        "#2.4.5 배열의 통계 메소드\n",
        "data = np.array([[5, 7, 9], [-7, -6, 19], [6, 8.9, 11]])\n",
        "print(data)\n",
        "print(data.sum())\n",
        "print(data.mean())\n",
        "print(data.max())\n",
        "print(data.min())\n",
        "print(data.max(axis = 0))\n",
        "index_1 = np.argmax(data, axis = 0)\n",
        "print(index_1)"
      ],
      "execution_count": 6,
      "outputs": [
        {
          "output_type": "stream",
          "name": "stdout",
          "text": [
            "[[ 5.   7.   9. ]\n",
            " [-7.  -6.  19. ]\n",
            " [ 6.   8.9 11. ]]\n",
            "52.9\n",
            "5.877777777777777\n",
            "19.0\n",
            "-7.0\n",
            "[ 6.   8.9 19. ]\n",
            "[2 2 1]\n"
          ]
        }
      ]
    },
    {
      "cell_type": "code",
      "metadata": {
        "colab": {
          "base_uri": "https://localhost:8080/"
        },
        "id": "MKNebbT-CNr_",
        "outputId": "a80c0650-04b7-4cfc-97a8-a1bd4d4f0ac4"
      },
      "source": [
        "#2.4.6 배열에 조건식 사용\n",
        "data = np.random.randn(2, 3)\n",
        "print(data)\n",
        "print(data > 0)\n",
        "total = (data < 0).sum()\n",
        "print(total)\n",
        "data_minus = np.where(data < 0, 0, data)\n",
        "print(data_minus)"
      ],
      "execution_count": 7,
      "outputs": [
        {
          "output_type": "stream",
          "name": "stdout",
          "text": [
            "[[-0.13460265 -0.21728056 -1.813506  ]\n",
            " [-0.45231056  1.43120755 -0.69074945]]\n",
            "[[False False False]\n",
            " [False  True False]]\n",
            "5\n",
            "[[0.         0.         0.        ]\n",
            " [0.         1.43120755 0.        ]]\n"
          ]
        }
      ]
    },
    {
      "cell_type": "code",
      "metadata": {
        "colab": {
          "base_uri": "https://localhost:8080/"
        },
        "id": "VKq6L6RZC40m",
        "outputId": "799f74c6-6b5f-4c3b-9e8b-f3eeff502784"
      },
      "source": [
        "#2.4.7 배열의 요소 정렬\n",
        "data = np.array([[9, 7, 5], [19, -6, -9], [6, -2, 11]])\n",
        "print(data)\n",
        "data.sort(0)\n",
        "print(data)\n",
        "data.sort(1)\n",
        "print(data)"
      ],
      "execution_count": 8,
      "outputs": [
        {
          "output_type": "stream",
          "name": "stdout",
          "text": [
            "[[ 9  7  5]\n",
            " [19 -6 -9]\n",
            " [ 6 -2 11]]\n",
            "[[ 6 -6 -9]\n",
            " [ 9 -2  5]\n",
            " [19  7 11]]\n",
            "[[-9 -6  6]\n",
            " [-2  5  9]\n",
            " [ 7 11 19]]\n"
          ]
        }
      ]
    },
    {
      "cell_type": "code",
      "metadata": {
        "colab": {
          "base_uri": "https://localhost:8080/"
        },
        "id": "IynNr71dDLZ8",
        "outputId": "74a25517-9dae-429b-91f1-02a2f82dd20d"
      },
      "source": [
        "#2.4.8 배열의 브로드캐스팅\n",
        "data_1 = np.array([[1, 2, 3], [4, 5, 6]])\n",
        "data_2 = np.array([10, 11, 12])\n",
        "sum = data_1 + data_2\n",
        "multiply = data_1 + data_2\n",
        "print(sum)\n",
        "print(multiply)"
      ],
      "execution_count": 9,
      "outputs": [
        {
          "output_type": "stream",
          "name": "stdout",
          "text": [
            "[[11 13 15]\n",
            " [14 16 18]]\n",
            "[[11 13 15]\n",
            " [14 16 18]]\n"
          ]
        }
      ]
    },
    {
      "cell_type": "markdown",
      "metadata": {
        "id": "3L27IMXBFcfI"
      },
      "source": [
        "### 3.4 Pandas 활용하기"
      ]
    },
    {
      "cell_type": "code",
      "metadata": {
        "colab": {
          "base_uri": "https://localhost:8080/"
        },
        "id": "IV9woapwFh9R",
        "outputId": "c9842256-722a-4ba9-bc54-096f82989701"
      },
      "source": [
        "#3.4.1 Series 객체 생성 및 인덱스 설정\n",
        "import pandas as pd\n",
        "obj = pd.Series([10, 20, 30, 40, 50])\n",
        "obj_2 = pd.Series([10, 20, 30, 40, 50], index = ['a', 'b', 'c', 'd', 'e'])\n",
        "print(obj)\n",
        "print(obj.index)\n",
        "print(obj[1])\n",
        "print(obj_2)\n",
        "print(obj_2[['a', 'e']])\n",
        "print(obj_2[1:3])"
      ],
      "execution_count": 10,
      "outputs": [
        {
          "output_type": "stream",
          "name": "stdout",
          "text": [
            "0    10\n",
            "1    20\n",
            "2    30\n",
            "3    40\n",
            "4    50\n",
            "dtype: int64\n",
            "RangeIndex(start=0, stop=5, step=1)\n",
            "20\n",
            "a    10\n",
            "b    20\n",
            "c    30\n",
            "d    40\n",
            "e    50\n",
            "dtype: int64\n",
            "a    10\n",
            "e    50\n",
            "dtype: int64\n",
            "b    20\n",
            "c    30\n",
            "dtype: int64\n"
          ]
        }
      ]
    },
    {
      "cell_type": "code",
      "metadata": {
        "colab": {
          "base_uri": "https://localhost:8080/"
        },
        "id": "Lws0B9gUGKV2",
        "outputId": "9a16ce84-09c8-4c6d-9dc2-fcd071fe4ad4"
      },
      "source": [
        "#3.4.2 Series 객체의 연산과 조건식\n",
        "obj = pd.Series([10, 20, 30, 40])\n",
        "print(obj * 10)\n",
        "print('-' *30)\n",
        "print(obj >= 20)"
      ],
      "execution_count": 11,
      "outputs": [
        {
          "output_type": "stream",
          "name": "stdout",
          "text": [
            "0    100\n",
            "1    200\n",
            "2    300\n",
            "3    400\n",
            "dtype: int64\n",
            "------------------------------\n",
            "0    False\n",
            "1     True\n",
            "2     True\n",
            "3     True\n",
            "dtype: bool\n"
          ]
        }
      ]
    },
    {
      "cell_type": "code",
      "metadata": {
        "colab": {
          "base_uri": "https://localhost:8080/"
        },
        "id": "ZcY1wyOYGcBo",
        "outputId": "db5af986-9a2e-45d5-d7b4-834a0c121f8c"
      },
      "source": [
        "#3.4.3 Series 객체와 for문\n",
        "data = pd.Series([35, 60, 85], index = ['유재석', '박명수', '태진아'])\n",
        "print(data)\n",
        "print('-' * 30)\n",
        "for i, v in data.items() :\n",
        "  print('%s : %d세'% (i, v))"
      ],
      "execution_count": 12,
      "outputs": [
        {
          "output_type": "stream",
          "name": "stdout",
          "text": [
            "유재석    35\n",
            "박명수    60\n",
            "태진아    85\n",
            "dtype: int64\n",
            "------------------------------\n",
            "유재석 : 35세\n",
            "박명수 : 60세\n",
            "태진아 : 85세\n"
          ]
        }
      ]
    },
    {
      "cell_type": "code",
      "metadata": {
        "colab": {
          "base_uri": "https://localhost:8080/"
        },
        "id": "uBwUORG0G0Ui",
        "outputId": "ddb880c9-621f-474c-bdea-761e82cf6553"
      },
      "source": [
        "#3.4.4 Series 객체와 딕셔너리\n",
        "data = pd.Series({'유재석' : 35, '박명수' : 60, '태진아' : 85}, index = {'유재석', '박명수', '태진아', '정형돈', '하하'})\n",
        "data['정형돈'] = 52\n",
        "print(data)\n",
        "print(data[3])"
      ],
      "execution_count": 13,
      "outputs": [
        {
          "output_type": "stream",
          "name": "stdout",
          "text": [
            "유재석    35.0\n",
            "태진아    85.0\n",
            "정형돈    52.0\n",
            "하하      NaN\n",
            "박명수    60.0\n",
            "dtype: float64\n",
            "nan\n"
          ]
        }
      ]
    },
    {
      "cell_type": "code",
      "metadata": {
        "colab": {
          "base_uri": "https://localhost:8080/"
        },
        "id": "HVvtrd7tHQeZ",
        "outputId": "3f08e597-cf02-4efe-bd30-a93a97cd1e6a"
      },
      "source": [
        "#3.4.5 DataFrame 객체 생성 및 인덱스 설정\n",
        "data = {'이름' : ['유재석', '박명수', '정형돈', '하하'], \n",
        "        '나이' : [35, 60, 52, 38],\n",
        "        '키' : [180, 175, 160, 150]}\n",
        "frame = pd.DataFrame(data)\n",
        "frame_2 = pd.DataFrame(data, columns = ['이름', '나이', '키', '몸무게'])\n",
        "print(data)\n",
        "print(frame)\n",
        "print(frame_2)\n",
        "print(frame.head(2))\n",
        "print(frame.tail(2)) # 노트와 다름 확인 필요"
      ],
      "execution_count": 15,
      "outputs": [
        {
          "output_type": "stream",
          "name": "stdout",
          "text": [
            "{'이름': ['유재석', '박명수', '정형돈', '하하'], '나이': [35, 60, 52, 38], '키': [180, 175, 160, 150]}\n",
            "    이름  나이    키\n",
            "0  유재석  35  180\n",
            "1  박명수  60  175\n",
            "2  정형돈  52  160\n",
            "3   하하  38  150\n",
            "    이름  나이    키  몸무게\n",
            "0  유재석  35  180  NaN\n",
            "1  박명수  60  175  NaN\n",
            "2  정형돈  52  160  NaN\n",
            "3   하하  38  150  NaN\n",
            "    이름  나이    키\n",
            "0  유재석  35  180\n",
            "1  박명수  60  175\n",
            "    이름  나이    키\n",
            "2  정형돈  52  160\n",
            "3   하하  38  150\n"
          ]
        }
      ]
    },
    {
      "cell_type": "code",
      "metadata": {
        "colab": {
          "base_uri": "https://localhost:8080/"
        },
        "id": "F4oeLxk0I3-N",
        "outputId": "ec0c0e49-bc28-4812-d6e6-8e139e01c1e0"
      },
      "source": [
        "#3.4.6 DataFrame 요소 추출하기(loc과 iloc활용)\n",
        "data = {'이름' : ['유재석', '박명수', '정형돈', '하하'],\n",
        "        '나이' : [35, 60, 52, 38],\n",
        "        '키' : [180, 175, 160, 150]}\n",
        "frame = pd.DataFrame(data, index = ['첫째', '둘째', '셋째', '넷째'])\n",
        "print(frame)\n",
        "print(frame.loc['둘째', '이름'])\n",
        "print(frame.loc['넷째', ['나이', '키']])\n",
        "print('-' * 30)\n",
        "print(frame.iloc[2, 0])\n",
        "print(frame.iloc[3, :2])\n",
        "print(frame.iloc[:, [0,2]])"
      ],
      "execution_count": 17,
      "outputs": [
        {
          "output_type": "stream",
          "name": "stdout",
          "text": [
            "     이름  나이    키\n",
            "첫째  유재석  35  180\n",
            "둘째  박명수  60  175\n",
            "셋째  정형돈  52  160\n",
            "넷째   하하  38  150\n",
            "박명수\n",
            "나이     38\n",
            "키     150\n",
            "Name: 넷째, dtype: object\n",
            "------------------------------\n",
            "정형돈\n",
            "이름    하하\n",
            "나이    38\n",
            "Name: 넷째, dtype: object\n",
            "     이름    키\n",
            "첫째  유재석  180\n",
            "둘째  박명수  175\n",
            "셋째  정형돈  160\n",
            "넷째   하하  150\n"
          ]
        }
      ]
    },
    {
      "cell_type": "code",
      "metadata": {
        "colab": {
          "base_uri": "https://localhost:8080/"
        },
        "id": "Ngpax4I-KX-n",
        "outputId": "e632d612-8823-4785-de6e-7cb92456629f"
      },
      "source": [
        "#3.4.7 합계와 평균/정렬하기\n",
        "data = {'이름' : ['유재석', '박명수', '정형돈', '하하'], \n",
        "        '나이' : [35, 60, 52, 38],\n",
        "        '키' : [180, 175, 160, 150]}\n",
        "frame = pd.DataFrame(data)\n",
        "frame_2 = frame.iloc[:, [1,2]]\n",
        "rank = frame.sort_values(by = ['나이'], ascending = False)\n",
        "total = frame_2.sum(axis = 0)\n",
        "avg = frame_2.mean(axis = 0)\n",
        "\n",
        "print(frame_2)\n",
        "print(rank)\n",
        "print(total)\n",
        "print(avg)"
      ],
      "execution_count": 18,
      "outputs": [
        {
          "output_type": "stream",
          "name": "stdout",
          "text": [
            "   나이    키\n",
            "0  35  180\n",
            "1  60  175\n",
            "2  52  160\n",
            "3  38  150\n",
            "    이름  나이    키\n",
            "1  박명수  60  175\n",
            "2  정형돈  52  160\n",
            "3   하하  38  150\n",
            "0  유재석  35  180\n",
            "나이    185\n",
            "키     665\n",
            "dtype: int64\n",
            "나이     46.25\n",
            "키     166.25\n",
            "dtype: float64\n"
          ]
        }
      ]
    }
  ]
}