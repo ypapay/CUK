{
  "nbformat": 4,
  "nbformat_minor": 0,
  "metadata": {
    "colab": {
      "name": "파이썬 머신러닝 3주차_210920.ipynb",
      "provenance": [],
      "collapsed_sections": [],
      "authorship_tag": "ABX9TyMp4dxSkJdZHjXzHCXbKarZ",
      "include_colab_link": true
    },
    "kernelspec": {
      "name": "python3",
      "display_name": "Python 3"
    },
    "language_info": {
      "name": "python"
    }
  },
  "cells": [
    {
      "cell_type": "markdown",
      "metadata": {
        "id": "view-in-github",
        "colab_type": "text"
      },
      "source": [
        "<a href=\"https://colab.research.google.com/github/ypapay/CUK/blob/main/%ED%8C%8C%EC%9D%B4%EC%8D%AC_%EB%A8%B8%EC%8B%A0%EB%9F%AC%EB%8B%9D_3%EC%A3%BC%EC%B0%A8_210920.ipynb\" target=\"_parent\"><img src=\"https://colab.research.google.com/assets/colab-badge.svg\" alt=\"Open In Colab\"/></a>"
      ]
    },
    {
      "cell_type": "markdown",
      "metadata": {
        "id": "8gzz7ieMlZRB"
      },
      "source": [
        "# 파이썬 머신러닝 3주차\n",
        "## 프로그램 구조 익숙해지기"
      ]
    },
    {
      "cell_type": "markdown",
      "metadata": {
        "id": "bBorud5elml9"
      },
      "source": [
        "### 1.5.1 IF문 활용하기"
      ]
    },
    {
      "cell_type": "code",
      "metadata": {
        "colab": {
          "base_uri": "https://localhost:8080/"
        },
        "id": "1PZlROfhlKlQ",
        "outputId": "f2c30acd-3e01-4522-8dc9-f20c9247779d"
      },
      "source": [
        "# Lesson 1.5.1\n",
        "\n",
        "num = int(input('판별할 숫자를 입력하세요 : '))\n",
        "if num > 0 :\n",
        "  print('입력한 숫자는 양수입니다.')\n",
        "\n",
        "num2 = int(input('판별할 숫자를 더 입력하세요 : '))\n",
        "if num2 > 0 :\n",
        "  print('입력한 숫자는 양수입니다.')\n",
        "else :\n",
        "  print('입력한 숫자는 0 또는 음수입니다.')\n",
        "\n",
        "num3 = int(input('판별할 숫자를 또 입력하세요 : '))\n",
        "if num3 > 0 :\n",
        "  print('입력한 숫자는 양수입니다.')\n",
        "elif num3==0 :\n",
        "  print('입력한 숫자는 0입니다.')\n",
        "else :\n",
        "  print('입력한 숫자는 음수입니다.')"
      ],
      "execution_count": 1,
      "outputs": [
        {
          "output_type": "stream",
          "name": "stdout",
          "text": [
            "판별할 숫자를 입력하세요 : 1\n",
            "입력한 숫자는 양수입니다.\n",
            "판별할 숫자를 더 입력하세요 : -2\n",
            "입력한 숫자는 0 또는 음수입니다.\n",
            "판별할 숫자를 또 입력하세요 : -2\n",
            "입력한 숫자는 음수입니다.\n"
          ]
        }
      ]
    },
    {
      "cell_type": "markdown",
      "metadata": {
        "id": "MEzerKrWm2Qk"
      },
      "source": [
        "### 1.6.2 논리연산자 : and, or, not"
      ]
    },
    {
      "cell_type": "code",
      "metadata": {
        "colab": {
          "base_uri": "https://localhost:8080/"
        },
        "id": "m9vsVtnXofJd",
        "outputId": "43f91c2a-26fa-41ba-b9ce-ec7f5418ee27"
      },
      "source": [
        "# Lesson 1.6.2\n",
        "\n",
        "x = 11\n",
        "y = 2\n",
        "\n",
        "print(x > 10)\n",
        "print(y <= 5)\n",
        "print(x + y == 14)\n",
        "print(x % 3 == 0)\n",
        "print(y % 3 != 0)\n",
        "print(x > 10 and y <= 5)\n",
        "print(x > 10 and x + y == 14)\n",
        "print(x > 10 or x + y ==14)"
      ],
      "execution_count": 3,
      "outputs": [
        {
          "output_type": "stream",
          "name": "stdout",
          "text": [
            "True\n",
            "True\n",
            "False\n",
            "False\n",
            "True\n",
            "True\n",
            "False\n",
            "True\n"
          ]
        }
      ]
    },
    {
      "cell_type": "markdown",
      "metadata": {
        "id": "5wp4g34c8zWM"
      },
      "source": [
        "### 2.3 for문의 문법\n"
      ]
    },
    {
      "cell_type": "code",
      "metadata": {
        "colab": {
          "base_uri": "https://localhost:8080/"
        },
        "id": "yQLiqDe-9KVi",
        "outputId": "8214a612-90c5-422a-c687-2080b8548aeb"
      },
      "source": [
        "#2.3.1\n",
        "\n",
        "for i in range(5):\n",
        "  print('Hello, world!')"
      ],
      "execution_count": 4,
      "outputs": [
        {
          "output_type": "stream",
          "name": "stdout",
          "text": [
            "Hello, world!\n",
            "Hello, world!\n",
            "Hello, world!\n",
            "Hello, world!\n",
            "Hello, world!\n"
          ]
        }
      ]
    },
    {
      "cell_type": "markdown",
      "metadata": {
        "id": "URWw5FBi9gk8"
      },
      "source": [
        "### 2.4 for문의 활용"
      ]
    },
    {
      "cell_type": "code",
      "metadata": {
        "colab": {
          "base_uri": "https://localhost:8080/"
        },
        "id": "g0GJ8kAH9pfH",
        "outputId": "0fb1c258-482c-4dfb-9f40-c0e31a9730a3"
      },
      "source": [
        "#2.4.1\n",
        "\n",
        "sum = 0\n",
        "for i in range(1,6) :\n",
        "  sum += i\n",
        "  print('i의 값 : %d, 합계 : %d' % (i, sum))"
      ],
      "execution_count": 8,
      "outputs": [
        {
          "output_type": "stream",
          "name": "stdout",
          "text": [
            "i의 값 : 1, 합계 : 1\n",
            "i의 값 : 2, 합계 : 3\n",
            "i의 값 : 3, 합계 : 6\n",
            "i의 값 : 4, 합계 : 10\n",
            "i의 값 : 5, 합계 : 15\n"
          ]
        }
      ]
    },
    {
      "cell_type": "code",
      "metadata": {
        "colab": {
          "base_uri": "https://localhost:8080/"
        },
        "id": "ZzxWyCBQ-xNn",
        "outputId": "eeb55574-7417-4bb2-a969-2695152dba42"
      },
      "source": [
        "#2.4.2\n",
        "\n",
        "for i in range(1, 10, 2) :\n",
        "  print(i, end = ' ')\n",
        "print()\n",
        "for i in range(20, 0, -2) :\n",
        "  print(i, end = ' ')"
      ],
      "execution_count": 9,
      "outputs": [
        {
          "output_type": "stream",
          "name": "stdout",
          "text": [
            "1 3 5 7 9 \n",
            "20 18 16 14 12 10 8 6 4 2 "
          ]
        }
      ]
    },
    {
      "cell_type": "code",
      "metadata": {
        "colab": {
          "base_uri": "https://localhost:8080/"
        },
        "id": "ZTrK1rox_NDn",
        "outputId": "9c096ac9-e420-487d-b2b1-2fa0d65a823b"
      },
      "source": [
        "#2.4.3\n",
        "\n",
        "word = input('세로로 출력할 문장을 입력하세요 : ')\n",
        "\n",
        "for x in word :\n",
        "  print(x)"
      ],
      "execution_count": 10,
      "outputs": [
        {
          "output_type": "stream",
          "name": "stdout",
          "text": [
            "세로로 출력할 문장을 입력하세요 : 파이썬 머신 러닝\n",
            "파\n",
            "이\n",
            "썬\n",
            " \n",
            "머\n",
            "신\n",
            " \n",
            "러\n",
            "닝\n"
          ]
        }
      ]
    },
    {
      "cell_type": "code",
      "metadata": {
        "colab": {
          "base_uri": "https://localhost:8080/"
        },
        "id": "1LmXtHKyE3YK",
        "outputId": "c000fd25-1a6a-4a09-829e-ff6af6cfb3c5"
      },
      "source": [
        "#2.4.4\n",
        "\n",
        "sum = 0\n",
        "for i in range(1, 51) :\n",
        "  if i % 4 == 0 :\n",
        "    print('%d' % i, end = ' ')\n",
        "    sum += i\n",
        "print('\\n')\n",
        "print('1~50에서 4의 배수의 합계 : %d' %sum)"
      ],
      "execution_count": 19,
      "outputs": [
        {
          "output_type": "stream",
          "name": "stdout",
          "text": [
            "4 8 12 16 20 24 28 32 36 40 44 48 \n",
            "\n",
            "1~50에서 4의 배수의 합계 : 312\n"
          ]
        }
      ]
    },
    {
      "cell_type": "code",
      "metadata": {
        "colab": {
          "base_uri": "https://localhost:8080/"
        },
        "id": "9-ty9FL__wpc",
        "outputId": "29b5d381-61e3-4099-8309-d4d96eb96858"
      },
      "source": [
        "#2.6.1\n",
        "for i in range(2, 10):\n",
        "  for j in range(1, 10):\n",
        "    print(i*j, end = ' ')\n",
        "  print('')"
      ],
      "execution_count": 11,
      "outputs": [
        {
          "output_type": "stream",
          "name": "stdout",
          "text": [
            "2 4 6 8 10 12 14 16 18 \n",
            "3 6 9 12 15 18 21 24 27 \n",
            "4 8 12 16 20 24 28 32 36 \n",
            "5 10 15 20 25 30 35 40 45 \n",
            "6 12 18 24 30 36 42 48 54 \n",
            "7 14 21 28 35 42 49 56 63 \n",
            "8 16 24 32 40 48 56 64 72 \n",
            "9 18 27 36 45 54 63 72 81 \n"
          ]
        }
      ]
    },
    {
      "cell_type": "markdown",
      "metadata": {
        "id": "nAxux5qpAcLn"
      },
      "source": [
        "### while 문의 활용"
      ]
    },
    {
      "cell_type": "code",
      "metadata": {
        "colab": {
          "base_uri": "https://localhost:8080/"
        },
        "id": "AvmqPcedAexf",
        "outputId": "29cdd6c2-c733-4287-aef0-e42d7ae1e114"
      },
      "source": [
        "#3.3.1\n",
        "\n",
        "tree = 0\n",
        "while tree < 10:\n",
        "  tree += 1\n",
        "  print('나무를 %d번 찍었습니다.' % tree)\n",
        "  if tree ==10:\n",
        "    print('나무 넘어갑니다.')"
      ],
      "execution_count": 12,
      "outputs": [
        {
          "output_type": "stream",
          "name": "stdout",
          "text": [
            "나무를 1번 찍었습니다.\n",
            "나무를 2번 찍었습니다.\n",
            "나무를 3번 찍었습니다.\n",
            "나무를 4번 찍었습니다.\n",
            "나무를 5번 찍었습니다.\n",
            "나무를 6번 찍었습니다.\n",
            "나무를 7번 찍었습니다.\n",
            "나무를 8번 찍었습니다.\n",
            "나무를 9번 찍었습니다.\n",
            "나무를 10번 찍었습니다.\n",
            "나무 넘어갑니다.\n"
          ]
        }
      ]
    },
    {
      "cell_type": "code",
      "metadata": {
        "colab": {
          "base_uri": "https://localhost:8080/"
        },
        "id": "iuSjwsaxBBZG",
        "outputId": "e59aa6e7-e568-4415-9a6d-a456e735ea12"
      },
      "source": [
        "#3.3.2\n",
        "\n",
        "sum = 0\n",
        "i = 1\n",
        "while i <= 10 :\n",
        "  sum += i\n",
        "  print('i의 값 : %d => 합계 :%d' % (i, sum))\n",
        "  i += 1\n"
      ],
      "execution_count": 13,
      "outputs": [
        {
          "output_type": "stream",
          "name": "stdout",
          "text": [
            "i의 값 : 1 => 합계 :1\n",
            "i의 값 : 2 => 합계 :3\n",
            "i의 값 : 3 => 합계 :6\n",
            "i의 값 : 4 => 합계 :10\n",
            "i의 값 : 5 => 합계 :15\n",
            "i의 값 : 6 => 합계 :21\n",
            "i의 값 : 7 => 합계 :28\n",
            "i의 값 : 8 => 합계 :36\n",
            "i의 값 : 9 => 합계 :45\n",
            "i의 값 : 10 => 합계 :55\n"
          ]
        }
      ]
    },
    {
      "cell_type": "code",
      "metadata": {
        "colab": {
          "base_uri": "https://localhost:8080/"
        },
        "id": "-BZl5JIbBoGU",
        "outputId": "b1e05485-2ad6-43e4-f8bb-463a70edc82a"
      },
      "source": [
        "i = 0\n",
        "while True : \n",
        "  print(i)\n",
        "  i += 1\n",
        "  if i == 50:\n",
        "    break"
      ],
      "execution_count": 14,
      "outputs": [
        {
          "output_type": "stream",
          "name": "stdout",
          "text": [
            "0\n",
            "1\n",
            "2\n",
            "3\n",
            "4\n",
            "5\n",
            "6\n",
            "7\n",
            "8\n",
            "9\n",
            "10\n",
            "11\n",
            "12\n",
            "13\n",
            "14\n",
            "15\n",
            "16\n",
            "17\n",
            "18\n",
            "19\n",
            "20\n",
            "21\n",
            "22\n",
            "23\n",
            "24\n",
            "25\n",
            "26\n",
            "27\n",
            "28\n",
            "29\n",
            "30\n",
            "31\n",
            "32\n",
            "33\n",
            "34\n",
            "35\n",
            "36\n",
            "37\n",
            "38\n",
            "39\n",
            "40\n",
            "41\n",
            "42\n",
            "43\n",
            "44\n",
            "45\n",
            "46\n",
            "47\n",
            "48\n",
            "49\n"
          ]
        }
      ]
    },
    {
      "cell_type": "markdown",
      "metadata": {
        "id": "TizfrSqYCiDk"
      },
      "source": [
        "### 활용하기"
      ]
    },
    {
      "cell_type": "markdown",
      "metadata": {
        "id": "Gsd6San3CnJa"
      },
      "source": [
        "### A 학급에 총 10명의 학생이 있다. \n",
        "### 이 학생들의 중간고사 점수는 다음과 같다.\n",
        "### [70, 60, 55, 75, 95, 90, 80, 80, 85, 100]\n",
        "### for문을 사용하여 A 학급의 평균 점수를 구해 보자."
      ]
    },
    {
      "cell_type": "code",
      "metadata": {
        "colab": {
          "base_uri": "https://localhost:8080/"
        },
        "id": "oaRKxH-_Cj28",
        "outputId": "76e91312-2e17-4dc5-bf20-81ae4f84906c"
      },
      "source": [
        "student = [70, 60, 55, 75, 95, 90, 80, 85, 100]\n",
        "sum = 0\n",
        "i = 0\n",
        "\n",
        "for student[i] in student :\n",
        "  sum += student[i]\n",
        "average = sum / 10\n",
        "\n",
        "print('A학급의 평균 점수는 %.1f 입니다.' % average)\n"
      ],
      "execution_count": 17,
      "outputs": [
        {
          "output_type": "stream",
          "name": "stdout",
          "text": [
            "A학급의 평균 점수는 71.0 입니다.\n"
          ]
        }
      ]
    }
  ]
}