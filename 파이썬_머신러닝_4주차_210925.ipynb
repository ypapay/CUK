{
  "nbformat": 4,
  "nbformat_minor": 0,
  "metadata": {
    "colab": {
      "name": "파이썬 머신러닝 4주차_210925.ipynb",
      "provenance": [],
      "collapsed_sections": [],
      "authorship_tag": "ABX9TyM8MAbbVpJ69aIhZleXEuzL",
      "include_colab_link": true
    },
    "kernelspec": {
      "name": "python3",
      "display_name": "Python 3"
    },
    "language_info": {
      "name": "python"
    }
  },
  "cells": [
    {
      "cell_type": "markdown",
      "metadata": {
        "id": "view-in-github",
        "colab_type": "text"
      },
      "source": [
        "<a href=\"https://colab.research.google.com/github/ypapay/CUK/blob/main/%ED%8C%8C%EC%9D%B4%EC%8D%AC_%EB%A8%B8%EC%8B%A0%EB%9F%AC%EB%8B%9D_4%EC%A3%BC%EC%B0%A8_210925.ipynb\" target=\"_parent\"><img src=\"https://colab.research.google.com/assets/colab-badge.svg\" alt=\"Open In Colab\"/></a>"
      ]
    },
    {
      "cell_type": "markdown",
      "metadata": {
        "id": "j3XHWcOabvbI"
      },
      "source": [
        "## 파이썬 머신러닝 4주차\n",
        "### 다양한 자료 다뤄보기"
      ]
    },
    {
      "cell_type": "markdown",
      "metadata": {
        "id": "ODB_Y7D6b4PT"
      },
      "source": [
        "### 1.4 리스트 활용"
      ]
    },
    {
      "cell_type": "code",
      "metadata": {
        "colab": {
          "base_uri": "https://localhost:8080/"
        },
        "id": "bhEl_Al2bsDu",
        "outputId": "9e4f298e-8d80-4cd5-b2bd-c169dd3140b5"
      },
      "source": [
        "# 1.4.1 리스트 생성\n",
        "list_1 = [10, 25, 70, 0.5]\n",
        "list_2 = ['파이썬', '머신러닝', '딥러닝']\n",
        "list_3 = [2.7, 8, '파이썬', '머신러닝']\n",
        "\n",
        "print(list_1)\n",
        "print(list_2)\n",
        "print(list_3)"
      ],
      "execution_count": 5,
      "outputs": [
        {
          "output_type": "stream",
          "name": "stdout",
          "text": [
            "[10, 25, 70, 0.5]\n",
            "['파이썬', '머신러닝', '딥러닝']\n",
            "[2.7, 8, '파이썬', '머신러닝']\n"
          ]
        }
      ]
    },
    {
      "cell_type": "code",
      "metadata": {
        "colab": {
          "base_uri": "https://localhost:8080/"
        },
        "id": "CNLsfrSucoF3",
        "outputId": "3f1cad46-bf0a-4d42-be30-ff08b4473944"
      },
      "source": [
        "# 1.4.2 리스트 인덱싱/슬라이싱\n",
        "\n",
        "print(list_1[0])\n",
        "print(list_1[0:3])\n",
        "print(list_2[1:3])\n",
        "print(list_3.index(8))"
      ],
      "execution_count": 6,
      "outputs": [
        {
          "output_type": "stream",
          "name": "stdout",
          "text": [
            "10\n",
            "[10, 25, 70]\n",
            "['머신러닝', '딥러닝']\n",
            "1\n"
          ]
        }
      ]
    },
    {
      "cell_type": "code",
      "metadata": {
        "colab": {
          "base_uri": "https://localhost:8080/"
        },
        "id": "_GWDsv8OdBdh",
        "outputId": "282e4b84-0c62-4c9a-8d97-c076b8bd305d"
      },
      "source": [
        "# 1.4.4 리스트 요소 추가\n",
        "\n",
        "list_1.append(100)\n",
        "list_2.append('난이도')\n",
        "print(list_1, list_2)\n",
        "list_1.insert(0,'서울')\n",
        "print(list_1, list_2)"
      ],
      "execution_count": 7,
      "outputs": [
        {
          "output_type": "stream",
          "name": "stdout",
          "text": [
            "[10, 25, 70, 0.5, 100] ['파이썬', '머신러닝', '딥러닝', '난이도']\n",
            "['서울', 10, 25, 70, 0.5, 100] ['파이썬', '머신러닝', '딥러닝', '난이도']\n"
          ]
        }
      ]
    },
    {
      "cell_type": "code",
      "metadata": {
        "colab": {
          "base_uri": "https://localhost:8080/"
        },
        "id": "VZ6_cjyNdgc9",
        "outputId": "9c14529c-2f14-42ac-8817-f77353883f64"
      },
      "source": [
        "# 1.4.5 리스트 요소 삭제\n",
        "\n",
        "list_1.pop(1)\n",
        "list_2.pop(0)\n",
        "print(list_1, list_2)\n",
        "list_1.remove(0.5)\n",
        "list_2.clear()\n",
        "print(list_1, list_2)"
      ],
      "execution_count": 8,
      "outputs": [
        {
          "output_type": "stream",
          "name": "stdout",
          "text": [
            "['서울', 25, 70, 0.5, 100] ['머신러닝', '딥러닝', '난이도']\n",
            "['서울', 25, 70, 100] []\n"
          ]
        }
      ]
    },
    {
      "cell_type": "code",
      "metadata": {
        "colab": {
          "base_uri": "https://localhost:8080/"
        },
        "id": "3ki-aBqedy0S",
        "outputId": "105fbd2b-8227-4493-a602-d4a494ff65c8"
      },
      "source": [
        "# 1.4.6 리스트 정렬/카운트\n",
        "\n",
        "list = [10, 40, 30, 20, 10]\n",
        "\n",
        "list.sort()\n",
        "print(list)\n",
        "list.reverse()\n",
        "print(list)\n",
        "list.count(10)"
      ],
      "execution_count": 9,
      "outputs": [
        {
          "output_type": "stream",
          "name": "stdout",
          "text": [
            "[10, 10, 20, 30, 40]\n",
            "[40, 30, 20, 10, 10]\n"
          ]
        },
        {
          "output_type": "execute_result",
          "data": {
            "text/plain": [
              "2"
            ]
          },
          "metadata": {},
          "execution_count": 9
        }
      ]
    },
    {
      "cell_type": "code",
      "metadata": {
        "colab": {
          "base_uri": "https://localhost:8080/"
        },
        "id": "A3e_rBsAeCpG",
        "outputId": "be7948c1-7785-4a7d-d760-892c3b6ed303"
      },
      "source": [
        "# 1.4.7 for문에서 리스트 활용\n",
        "\n",
        "foods = ['피자', '햄버거', '치킨', '라면']\n",
        "\n",
        "for food in foods :\n",
        "  print(food)"
      ],
      "execution_count": 10,
      "outputs": [
        {
          "output_type": "stream",
          "name": "stdout",
          "text": [
            "피자\n",
            "햄버거\n",
            "치킨\n",
            "라면\n"
          ]
        }
      ]
    },
    {
      "cell_type": "code",
      "metadata": {
        "colab": {
          "base_uri": "https://localhost:8080/"
        },
        "id": "KeyYktNeeQqE",
        "outputId": "db7548fa-6796-49ec-be96-366f96c4723f"
      },
      "source": [
        "# 1.4.8 2차원 리스트\n",
        "\n",
        "list_2d = [[3.14, 35, 701], ['파이썬', '머신러닝', '코딩']]\n",
        "\n",
        "print(list_2d[0])\n",
        "print(list_2d[1])\n",
        "print(list_2d[0][1])\n",
        "print(list_2d[1][2])"
      ],
      "execution_count": 11,
      "outputs": [
        {
          "output_type": "stream",
          "name": "stdout",
          "text": [
            "[3.14, 35, 701]\n",
            "['파이썬', '머신러닝', '코딩']\n",
            "35\n",
            "코딩\n"
          ]
        }
      ]
    },
    {
      "cell_type": "markdown",
      "metadata": {
        "id": "K1NmfjHXjpbi"
      },
      "source": [
        "### 2.3 튜플 활용"
      ]
    },
    {
      "cell_type": "code",
      "metadata": {
        "colab": {
          "base_uri": "https://localhost:8080/",
          "height": 257
        },
        "id": "PiFoBzw3jsIW",
        "outputId": "1fc5d392-5741-4d99-e0aa-f5a98449820e"
      },
      "source": [
        "# 2.3.1 튜플 생성\n",
        "\n",
        "tuple_1 = (10, 25, 70, '파이썬')\n",
        "\n",
        "print(tuple_1)\n",
        "print(tuple_1[0])\n",
        "print(tuple_1[:2])\n",
        "tuple_1[1] = 21.4"
      ],
      "execution_count": 12,
      "outputs": [
        {
          "output_type": "stream",
          "name": "stdout",
          "text": [
            "(10, 25, 70, '파이썬')\n",
            "10\n",
            "(10, 25)\n"
          ]
        },
        {
          "output_type": "error",
          "ename": "TypeError",
          "evalue": "ignored",
          "traceback": [
            "\u001b[0;31m---------------------------------------------------------------------------\u001b[0m",
            "\u001b[0;31mTypeError\u001b[0m                                 Traceback (most recent call last)",
            "\u001b[0;32m<ipython-input-12-b09bfb031455>\u001b[0m in \u001b[0;36m<module>\u001b[0;34m()\u001b[0m\n\u001b[1;32m      6\u001b[0m \u001b[0mprint\u001b[0m\u001b[0;34m(\u001b[0m\u001b[0mtuple_1\u001b[0m\u001b[0;34m[\u001b[0m\u001b[0;36m0\u001b[0m\u001b[0;34m]\u001b[0m\u001b[0;34m)\u001b[0m\u001b[0;34m\u001b[0m\u001b[0;34m\u001b[0m\u001b[0m\n\u001b[1;32m      7\u001b[0m \u001b[0mprint\u001b[0m\u001b[0;34m(\u001b[0m\u001b[0mtuple_1\u001b[0m\u001b[0;34m[\u001b[0m\u001b[0;34m:\u001b[0m\u001b[0;36m2\u001b[0m\u001b[0;34m]\u001b[0m\u001b[0;34m)\u001b[0m\u001b[0;34m\u001b[0m\u001b[0;34m\u001b[0m\u001b[0m\n\u001b[0;32m----> 8\u001b[0;31m \u001b[0mtuple_1\u001b[0m\u001b[0;34m[\u001b[0m\u001b[0;36m1\u001b[0m\u001b[0;34m]\u001b[0m \u001b[0;34m=\u001b[0m \u001b[0;36m21.4\u001b[0m\u001b[0;34m\u001b[0m\u001b[0;34m\u001b[0m\u001b[0m\n\u001b[0m",
            "\u001b[0;31mTypeError\u001b[0m: 'tuple' object does not support item assignment"
          ]
        }
      ]
    },
    {
      "cell_type": "code",
      "metadata": {
        "colab": {
          "base_uri": "https://localhost:8080/"
        },
        "id": "0fbqSsVNkA0w",
        "outputId": "ba0aaffe-945a-4ee2-836e-2faa6f36e9eb"
      },
      "source": [
        "# 2.3.2 튜플 병합\n",
        "\n",
        "tuple_1 = (10, 25, 70, '파이썬')\n",
        "tuple_2 = (0.21, 2.14, 93.1)\n",
        "tuple_3 = tuple_1 + tuple_2\n",
        "\n",
        "print(tuple_3)\n",
        "print(len(tuple_1), len(tuple_3), sep = ',')"
      ],
      "execution_count": 13,
      "outputs": [
        {
          "output_type": "stream",
          "name": "stdout",
          "text": [
            "(10, 25, 70, '파이썬', 0.21, 2.14, 93.1)\n",
            "4,7\n"
          ]
        }
      ]
    },
    {
      "cell_type": "code",
      "metadata": {
        "colab": {
          "base_uri": "https://localhost:8080/"
        },
        "id": "315v4H2Fkb6f",
        "outputId": "14781e47-4409-4fc1-ad02-ebb1e5effe81"
      },
      "source": [
        "# 2.3.3 for문에서 튜플 사용\n",
        "\n",
        "for tuple in tuple_1:\n",
        "  print(tuple)"
      ],
      "execution_count": 14,
      "outputs": [
        {
          "output_type": "stream",
          "name": "stdout",
          "text": [
            "10\n",
            "25\n",
            "70\n",
            "파이썬\n"
          ]
        }
      ]
    },
    {
      "cell_type": "markdown",
      "metadata": {
        "id": "fY2KYXDckkcS"
      },
      "source": [
        "### 2.5 딕셔너리 생성 및 활용"
      ]
    },
    {
      "cell_type": "code",
      "metadata": {
        "colab": {
          "base_uri": "https://localhost:8080/"
        },
        "id": "lHU3Q4tPks-X",
        "outputId": "4c5c9e62-f467-4d43-ee52-0206c66b9019"
      },
      "source": [
        "# 2.5.2 딕셔너리 생성\n",
        "\n",
        "hunter = {'health' : 230, 'power' : 125, 'speed' : 130}\n",
        "\n",
        "print(hunter)\n",
        "print(hunter['power'])\n",
        "print(len(hunter))"
      ],
      "execution_count": 15,
      "outputs": [
        {
          "output_type": "stream",
          "name": "stdout",
          "text": [
            "{'health': 230, 'power': 125, 'speed': 130}\n",
            "125\n",
            "3\n"
          ]
        }
      ]
    },
    {
      "cell_type": "code",
      "metadata": {
        "colab": {
          "base_uri": "https://localhost:8080/"
        },
        "id": "b4H9wTvmlm8x",
        "outputId": "4ae5fd05-bd49-4be4-aa5a-7e908cc1359e"
      },
      "source": [
        "# 2.5.3 딕셔너리 요소 다루기\n",
        "\n",
        "hunter['health'] = 500\n",
        "print(hunter)\n",
        "hunter['wisdom'] = 80\n",
        "print(hunter)\n",
        "del hunter['power']\n",
        "print(hunter)\n",
        "print(hunter.keys())\n",
        "print(hunter.values())"
      ],
      "execution_count": 16,
      "outputs": [
        {
          "output_type": "stream",
          "name": "stdout",
          "text": [
            "{'health': 500, 'power': 125, 'speed': 130}\n",
            "{'health': 500, 'power': 125, 'speed': 130, 'wisdom': 80}\n",
            "{'health': 500, 'speed': 130, 'wisdom': 80}\n",
            "dict_keys(['health', 'speed', 'wisdom'])\n",
            "dict_values([500, 130, 80])\n"
          ]
        }
      ]
    },
    {
      "cell_type": "code",
      "metadata": {
        "colab": {
          "base_uri": "https://localhost:8080/"
        },
        "id": "Y5rztsP3l89o",
        "outputId": "0f9c5c93-d4c3-427f-c0bd-90ea6a7e7c63"
      },
      "source": [
        "# 2.5.4 for문에서 딕셔너리 사용\n",
        "\n",
        "for key in hunter :\n",
        "  print(key)\n",
        "for val in hunter.values() :\n",
        "  print(val)\n",
        "for key, val in hunter.items() :\n",
        "  print(key, val, sep = ',')"
      ],
      "execution_count": 17,
      "outputs": [
        {
          "output_type": "stream",
          "name": "stdout",
          "text": [
            "health\n",
            "speed\n",
            "wisdom\n",
            "500\n",
            "130\n",
            "80\n",
            "health,500\n",
            "speed,130\n",
            "wisdom,80\n"
          ]
        }
      ]
    },
    {
      "cell_type": "markdown",
      "metadata": {
        "id": "dUxmJIQQn7l2"
      },
      "source": [
        "### 3.5 함수의 활용"
      ]
    },
    {
      "cell_type": "code",
      "metadata": {
        "colab": {
          "base_uri": "https://localhost:8080/"
        },
        "id": "tJKzGR1-n7Bi",
        "outputId": "ab839636-dc64-4867-bb0a-783bf92ac456"
      },
      "source": [
        "# 3.5.1 함수의 정의와 호출\n",
        "\n",
        "def sum(x, y):\n",
        "  return x + y\n",
        "\n",
        "sum(20, 30)"
      ],
      "execution_count": 18,
      "outputs": [
        {
          "output_type": "execute_result",
          "data": {
            "text/plain": [
              "50"
            ]
          },
          "metadata": {},
          "execution_count": 18
        }
      ]
    },
    {
      "cell_type": "code",
      "metadata": {
        "colab": {
          "base_uri": "https://localhost:8080/"
        },
        "id": "4SWB5ZmxoI9K",
        "outputId": "428c278d-c1e9-4e1b-c19d-6bede5eea392"
      },
      "source": [
        "# 3.5.2 매개 변수가 여러 개인 경우\n",
        "\n",
        "def order(drink, cookie):\n",
        "  print('음료:', drink, ',', '쿠키 :', cookie)\n",
        "\n",
        "order('아메리카노', '치즈쿠키')\n",
        "order('카페라떼', '녹차쿠키')"
      ],
      "execution_count": 19,
      "outputs": [
        {
          "output_type": "stream",
          "name": "stdout",
          "text": [
            "음료: 아메리카노 , 쿠키 : 치즈쿠키\n",
            "음료: 카페라떼 , 쿠키 : 녹차쿠키\n"
          ]
        }
      ]
    },
    {
      "cell_type": "code",
      "metadata": {
        "colab": {
          "base_uri": "https://localhost:8080/"
        },
        "id": "wIQ4xInJoebg",
        "outputId": "460e02a9-d453-487d-c7f4-a5e57c809ef9"
      },
      "source": [
        "# 3.5.3 여러 개의 입력 받기\n",
        "\n",
        "def cal_many(*args):\n",
        "  result = 0\n",
        "  for i in args :\n",
        "    result += i\n",
        "  return result\n",
        "\n",
        "x = cal_many(2, 3, 4)\n",
        "y = cal_many(2, 3, 4, 50, 2, 7)\n",
        "print(x, y, sep =',')"
      ],
      "execution_count": 21,
      "outputs": [
        {
          "output_type": "stream",
          "name": "stdout",
          "text": [
            "9,68\n"
          ]
        }
      ]
    },
    {
      "cell_type": "markdown",
      "metadata": {
        "id": "uBXpfDDEpeW_"
      },
      "source": [
        "### 3.6 모듈/패키지의 개념"
      ]
    },
    {
      "cell_type": "code",
      "metadata": {
        "colab": {
          "base_uri": "https://localhost:8080/"
        },
        "id": "C0YcPwjbpiqs",
        "outputId": "fe935f06-ba00-4a17-a83b-289ba2c37097"
      },
      "source": [
        "# 3.6.4 모듈/패키지 불러오기\n",
        "\n",
        "import math\n",
        "import math as m\n",
        "from math import sqrt\n",
        "\n",
        "print(2**3)\n",
        "print(math.pow(2, 3))\n",
        "print(math.sqrt(4))\n",
        "print(m.sqrt(4))\n",
        "print(sqrt(4))"
      ],
      "execution_count": 22,
      "outputs": [
        {
          "output_type": "stream",
          "name": "stdout",
          "text": [
            "8\n",
            "8.0\n",
            "2.0\n",
            "2.0\n",
            "2.0\n"
          ]
        }
      ]
    },
    {
      "cell_type": "markdown",
      "metadata": {
        "id": "EiM3M7f0rd46"
      },
      "source": [
        "### 3.8 머신러닝을 위한 라이브러리"
      ]
    },
    {
      "cell_type": "code",
      "metadata": {
        "id": "fAnCG8lvriKo"
      },
      "source": [
        "# 3.8.1 라이브러리 import\n",
        "\n",
        "import numpy as np\n",
        "import pandas as pd\n",
        "from sklearn.svm import SVC\n",
        "import matplotlib.pyplot as plt\n",
        "import seaborn as sns\n",
        "from keras.models import Sequential"
      ],
      "execution_count": 23,
      "outputs": []
    },
    {
      "cell_type": "markdown",
      "metadata": {
        "id": "FX7xyIy1tEr6"
      },
      "source": [
        "### 활용하기\n",
        "#### 정렬 관련 참고 사이트\n",
        "#### http://ejklike.github.io/2017/03/04/sorting-algorithms-with-python.html"
      ]
    },
    {
      "cell_type": "code",
      "metadata": {
        "colab": {
          "base_uri": "https://localhost:8080/"
        },
        "id": "vuY8rfWppBLb",
        "outputId": "1ed5113b-db3a-40cf-c7f2-aec3b15b453f"
      },
      "source": [
        "l = [95, 29, 36, 59, 84, 99, 27, 77]\n",
        "\n",
        "ll = l\n",
        "giri = len(ll)\n",
        "listy = []\n",
        "i = 0\n",
        "\n",
        "for i in range(giri) :\n",
        "  listy.append(min(ll))\n",
        "  ll.pop(ll.index(min(ll)))\n",
        "print(l)\n",
        "print(listy)"
      ],
      "execution_count": 49,
      "outputs": [
        {
          "output_type": "stream",
          "name": "stdout",
          "text": [
            "[]\n",
            "[27, 29, 36, 59, 77, 84, 95, 99]\n"
          ]
        }
      ]
    },
    {
      "cell_type": "code",
      "metadata": {
        "colab": {
          "base_uri": "https://localhost:8080/"
        },
        "id": "U5fqgZTAtHDy",
        "outputId": "a0bf1232-1806-4a5a-c234-ba60b1f2c683"
      },
      "source": [
        "#다음 조건에 따라 코딩해보세요.\n",
        "# 아래 리스트의 요소를 오름차순으로 정렬하는 프로그램을 작성하세요\n",
        "# 1개 이상 함수 정의 필요\n",
        "\n",
        "def aa(x):  \n",
        "  rp_x = x\n",
        "  length = len(rp_x)\n",
        "  list = []\n",
        "  i = 0\n",
        "  for i in range(length) :\n",
        "    list.append(min(rp_x))\n",
        "    rp_x.pop(rp_x.index(min(rp_x)))\n",
        "  print(list) \n",
        "  print(x)\n",
        "  return\n",
        "\n",
        "numbers = [95, 29, 36, 59, 84, 99, 27, 77]\n",
        "\n",
        "rp_numbers = numbers\n",
        "\n",
        "aa(rp_numbers)\n",
        "\n",
        "print(numbers)\n",
        "print(rp_numbers)\n"
      ],
      "execution_count": 47,
      "outputs": [
        {
          "output_type": "stream",
          "name": "stdout",
          "text": [
            "[27, 29, 36, 59, 77, 84, 95, 99]\n",
            "[]\n",
            "[]\n",
            "[]\n"
          ]
        }
      ]
    }
  ]
}