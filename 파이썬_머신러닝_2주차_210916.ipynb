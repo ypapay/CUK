{
  "nbformat": 4,
  "nbformat_minor": 0,
  "metadata": {
    "colab": {
      "name": "파이썬 머신러닝 2주차_210916.ipynb",
      "provenance": [],
      "collapsed_sections": [],
      "authorship_tag": "ABX9TyOZhYExRqr4nNwgWl++XKnY",
      "include_colab_link": true
    },
    "kernelspec": {
      "name": "python3",
      "display_name": "Python 3"
    },
    "language_info": {
      "name": "python"
    }
  },
  "cells": [
    {
      "cell_type": "markdown",
      "metadata": {
        "id": "view-in-github",
        "colab_type": "text"
      },
      "source": [
        "<a href=\"https://colab.research.google.com/github/ypapay/CUK/blob/main/%ED%8C%8C%EC%9D%B4%EC%8D%AC_%EB%A8%B8%EC%8B%A0%EB%9F%AC%EB%8B%9D_2%EC%A3%BC%EC%B0%A8_210916.ipynb\" target=\"_parent\"><img src=\"https://colab.research.google.com/assets/colab-badge.svg\" alt=\"Open In Colab\"/></a>"
      ]
    },
    {
      "cell_type": "markdown",
      "metadata": {
        "id": "7_1N43g__Fuk"
      },
      "source": [
        "# 파이썬 머신러닝 2주차\n",
        "## 파이썬 기본 문법 맛보기"
      ]
    },
    {
      "cell_type": "markdown",
      "metadata": {
        "id": "YzvpZCU-ES04"
      },
      "source": [
        "### 2.5 문자열 포매팅 : %d %f %.2f  %s {}'.format(name)"
      ]
    },
    {
      "cell_type": "code",
      "metadata": {
        "colab": {
          "base_uri": "https://localhost:8080/"
        },
        "id": "lBtuNx8cDxq0",
        "outputId": "1d065ca6-0cdd-414a-cbd0-a8001e1644d5"
      },
      "source": [
        "#코딩 2.5.1\n",
        "temp_1 = 25\n",
        "temp_2 = 2.32\n",
        "seoul_temp = '서울의 기온은 %d도 입니다.' % temp_1\n",
        "us_temp = '미국의 기온은 %.2f도 입니다.' % temp_2\n",
        "print(seoul_temp)\n",
        "print(us_temp)"
      ],
      "execution_count": 9,
      "outputs": [
        {
          "output_type": "stream",
          "name": "stdout",
          "text": [
            "서울의 기온은 25도 입니다.\n",
            "미국의 기온은 2.32도 입니다.\n"
          ]
        }
      ]
    },
    {
      "cell_type": "code",
      "metadata": {
        "colab": {
          "base_uri": "https://localhost:8080/"
        },
        "id": "IehBEfYTGSqC",
        "outputId": "4fc32122-7022-4dba-b3bb-bb35d842d5d7"
      },
      "source": [
        "## 추가 테스트\n",
        "print('정수로 %d' % temp_2)\n",
        "print('그대로 %f' % temp_2)\n",
        "print('자리수조정 %.1f' % temp_2)"
      ],
      "execution_count": 27,
      "outputs": [
        {
          "output_type": "stream",
          "name": "stdout",
          "text": [
            "정수로 2\n",
            "그대로 2.320000\n",
            "자리수조정 2.3\n"
          ]
        }
      ]
    },
    {
      "cell_type": "code",
      "metadata": {
        "colab": {
          "base_uri": "https://localhost:8080/"
        },
        "id": "4CU3KKQDEGWH",
        "outputId": "2766a2b8-cef3-4ecf-cb36-2c3ce5528352"
      },
      "source": [
        "#코딩 2.5.2\n",
        "name = 'K대'\n",
        "year = 20\n",
        "student = 10000\n",
        "a = '학교명 : {}'.format(name)\n",
        "b = '역사 : {}년'.format(year)\n",
        "c = '학생수 : {}명'.format(student)\n",
        "print(a)\n",
        "print(b)\n",
        "print(c)"
      ],
      "execution_count": 10,
      "outputs": [
        {
          "output_type": "stream",
          "name": "stdout",
          "text": [
            "학교명 : K대\n",
            "역사 : 20년\n",
            "학생수 : 10000명\n"
          ]
        }
      ]
    },
    {
      "cell_type": "markdown",
      "metadata": {
        "id": "fLKfs1piEhuk"
      },
      "source": [
        "### 3.1 입력을 위한 함수 : input()"
      ]
    },
    {
      "cell_type": "code",
      "metadata": {
        "colab": {
          "base_uri": "https://localhost:8080/"
        },
        "id": "nwP_8561Eg8C",
        "outputId": "9fa6c67c-208d-4ff7-e412-57c810e5f77e"
      },
      "source": [
        "#코딩 3.1.1\n",
        "name = input('이름 : ')\n",
        "print('%s님 환영합니다.' % name)"
      ],
      "execution_count": 11,
      "outputs": [
        {
          "output_type": "stream",
          "name": "stdout",
          "text": [
            "이름 : 메롱\n",
            "메롱님 환영합니다.\n"
          ]
        }
      ]
    },
    {
      "cell_type": "markdown",
      "metadata": {
        "id": "vjablYUiFGr8"
      },
      "source": [
        "### 3.2 입력받은 수 다루기"
      ]
    },
    {
      "cell_type": "code",
      "metadata": {
        "colab": {
          "base_uri": "https://localhost:8080/"
        },
        "id": "jR-CArWqFM9o",
        "outputId": "89dd2e42-d7d9-4ef5-ec37-0228f7264e6f"
      },
      "source": [
        "#코딩 3.2.1\n",
        "a = input('숫자 : ') # 예를 들어 10을 입력\n",
        "b = input('숫자 : ') # 예를 들어 1을 입력\n",
        "c = a + b\n",
        "d = int(a) + 1 # 정수화\n",
        "print(c) # 101\n",
        "print(d) # 11"
      ],
      "execution_count": 15,
      "outputs": [
        {
          "output_type": "stream",
          "name": "stdout",
          "text": [
            "숫자 : 10\n",
            "숫자 : 1\n",
            "101\n",
            "11\n"
          ]
        }
      ]
    },
    {
      "cell_type": "markdown",
      "metadata": {
        "id": "pir3l9UaF344"
      },
      "source": [
        "###3.3 실행결과 출력하기 : print()"
      ]
    },
    {
      "cell_type": "code",
      "metadata": {
        "colab": {
          "base_uri": "https://localhost:8080/"
        },
        "id": "0qiDZ6lyF8db",
        "outputId": "c7133d54-05e0-4582-925b-48ebf6d9408e"
      },
      "source": [
        "#코딩 3.3.1\n",
        "a = 'K대'\n",
        "b = '20년'\n",
        "print(a, b) # K대 20년"
      ],
      "execution_count": 17,
      "outputs": [
        {
          "output_type": "stream",
          "name": "stdout",
          "text": [
            "K대 20년\n"
          ]
        }
      ]
    },
    {
      "cell_type": "code",
      "metadata": {
        "colab": {
          "base_uri": "https://localhost:8080/",
          "height": 274
        },
        "id": "UA0KHxFWGClX",
        "outputId": "703e1437-bc81-4727-c550-63b09a22c171"
      },
      "source": [
        "#코딩 3.3.2\n",
        "x = '너' # + 기호로 연결할 때는 문자열이어야 함\n",
        "y = 10\n",
        "print('x = ' + str(x))\n",
        "print('x = ' + x)\n",
        "print('y = ' + str(y))\n",
        "print('y = ' + y) #에러남\n",
        "print(x + y) #에러남"
      ],
      "execution_count": 33,
      "outputs": [
        {
          "output_type": "stream",
          "name": "stdout",
          "text": [
            "x = 너\n",
            "x = 너\n",
            "y = 10\n"
          ]
        },
        {
          "output_type": "error",
          "ename": "TypeError",
          "evalue": "ignored",
          "traceback": [
            "\u001b[0;31m---------------------------------------------------------------------------\u001b[0m",
            "\u001b[0;31mTypeError\u001b[0m                                 Traceback (most recent call last)",
            "\u001b[0;32m<ipython-input-33-dce9ea45f9d1>\u001b[0m in \u001b[0;36m<module>\u001b[0;34m()\u001b[0m\n\u001b[1;32m      5\u001b[0m \u001b[0mprint\u001b[0m\u001b[0;34m(\u001b[0m\u001b[0;34m'x = '\u001b[0m \u001b[0;34m+\u001b[0m \u001b[0mx\u001b[0m\u001b[0;34m)\u001b[0m\u001b[0;34m\u001b[0m\u001b[0;34m\u001b[0m\u001b[0m\n\u001b[1;32m      6\u001b[0m \u001b[0mprint\u001b[0m\u001b[0;34m(\u001b[0m\u001b[0;34m'y = '\u001b[0m \u001b[0;34m+\u001b[0m \u001b[0mstr\u001b[0m\u001b[0;34m(\u001b[0m\u001b[0my\u001b[0m\u001b[0;34m)\u001b[0m\u001b[0;34m)\u001b[0m\u001b[0;34m\u001b[0m\u001b[0;34m\u001b[0m\u001b[0m\n\u001b[0;32m----> 7\u001b[0;31m \u001b[0mprint\u001b[0m\u001b[0;34m(\u001b[0m\u001b[0;34m'y = '\u001b[0m \u001b[0;34m+\u001b[0m \u001b[0my\u001b[0m\u001b[0;34m)\u001b[0m \u001b[0;31m#에러남\u001b[0m\u001b[0;34m\u001b[0m\u001b[0;34m\u001b[0m\u001b[0m\n\u001b[0m\u001b[1;32m      8\u001b[0m \u001b[0mprint\u001b[0m\u001b[0;34m(\u001b[0m\u001b[0mx\u001b[0m \u001b[0;34m+\u001b[0m \u001b[0my\u001b[0m\u001b[0;34m)\u001b[0m \u001b[0;31m#에러남\u001b[0m\u001b[0;34m\u001b[0m\u001b[0;34m\u001b[0m\u001b[0m\n",
            "\u001b[0;31mTypeError\u001b[0m: can only concatenate str (not \"int\") to str"
          ]
        }
      ]
    },
    {
      "cell_type": "code",
      "metadata": {
        "colab": {
          "base_uri": "https://localhost:8080/"
        },
        "id": "v2x0vHBvJIBL",
        "outputId": "434ef63e-4b0b-41f1-c090-07618dd9464d"
      },
      "source": [
        "#코딩 3.3.3\n",
        "print('%s, %d, %.2f' % (\"파이썬\", 30, 40.01))\n",
        "print('%s, %d, %.2f' % (\"파이썬\", 30.111, 40.01111))"
      ],
      "execution_count": 29,
      "outputs": [
        {
          "output_type": "stream",
          "name": "stdout",
          "text": [
            "파이썬, 30, 40.01\n",
            "파이썬, 30, 40.01\n"
          ]
        }
      ]
    },
    {
      "cell_type": "code",
      "metadata": {
        "colab": {
          "base_uri": "https://localhost:8080/"
        },
        "id": "qxA1dSFHLSld",
        "outputId": "dd4df41f-0ded-40b1-e382-7222fc0666b0"
      },
      "source": [
        "#코딩 3.3.4\n",
        "A = 2\n",
        "B = 'B'\n",
        "C = 1.4\n",
        "print(A, B, C, sep = '/') #'/'는 출력되는 항목 사이에 들어갈 문자 열\n",
        "print(A, B, C, sep = 'x')\n",
        "print(A, B, C, sep = '.x.')\n",
        "print(A, B, C, sep = ' ')\n",
        "print(A, B, C, sep = ', ')"
      ],
      "execution_count": 38,
      "outputs": [
        {
          "output_type": "stream",
          "name": "stdout",
          "text": [
            "2/B/1.4\n",
            "2xBx1.4\n",
            "2.x.B.x.1.4\n",
            "2 B 1.4\n",
            "2, B, 1.4\n"
          ]
        }
      ]
    },
    {
      "cell_type": "markdown",
      "metadata": {
        "id": "egssuVG8Nm8-"
      },
      "source": [
        "### 활용하기\n",
        "- 학생 이름 입력 받기\n",
        "- 총 4과목의 성적 입려받기 (A, B, C, D)\n",
        "- 성적의 총합 구하기\n",
        "- 성적의 평균 구하기\n",
        "- 이름, 각 과목의 성적, 총합, 평균 출력 구하기"
      ]
    },
    {
      "cell_type": "code",
      "metadata": {
        "colab": {
          "base_uri": "https://localhost:8080/"
        },
        "id": "TI6ZV9ERN5Cb",
        "outputId": "7d953f7b-fc36-41c1-e2df-9e19ec0c4b42"
      },
      "source": [
        "#코딩 활용하기\n",
        "name = input('이름? ')\n",
        "A = input('A 성적? ')\n",
        "B = input('B 성적? ')\n",
        "C = input('C 성적? ')\n",
        "D = input('D 성적? ')\n",
        "sum = float(A) + float(B) + float(C) + float(D)\n",
        "average = sum/4\n",
        "print('%s, A는 %s 점, B는 %s 점, C는 %s 점, D는 %s 점' % (name, A, B, C, D))\n",
        "print('총점은 %d 점, 평균은 %.1f 점' % (sum, average))"
      ],
      "execution_count": 41,
      "outputs": [
        {
          "output_type": "stream",
          "name": "stdout",
          "text": [
            "이름? 테디\n",
            "A 성적? 95\n",
            "B 성적? 70\n",
            "C 성적? 88\n",
            "D 성적? 56\n",
            "테디, A는 95 점, B는 70 점, C는 88 점, D는 56 점\n",
            "총점은 309 점, 평균은 77.2 점\n"
          ]
        }
      ]
    }
  ]
}